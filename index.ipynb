{
  "cells": [
    {
      "cell_type": "raw",
      "metadata": {},
      "source": [
        "---\n",
        "title: hw1\n",
        "---"
      ],
      "id": "e88304d1"
    },
    {
      "cell_type": "markdown",
      "metadata": {},
      "source": [
        "# 84p 1번\n"
      ],
      "id": "1537559b"
    },
    {
      "cell_type": "code",
      "metadata": {},
      "source": [
        "import pandas as pd\n",
        "import numpy as np\n",
        "#1\n",
        "df=pd.DataFrame({\n",
        "                    \"제품\":[\"사과\",'딸기','수박'],\n",
        "                    \"가격\":[1800,1500,3000],\n",
        "                    \"판매량\":[24,38,13]\n",
        "})\n",
        "df\n",
        "#2\n",
        "sum(df[\"가격\"])/3\n",
        "np.mean(df[\"판매량\"])"
      ],
      "id": "bc69ef11",
      "execution_count": null,
      "outputs": []
    },
    {
      "cell_type": "markdown",
      "metadata": {},
      "source": [
        "# 115P\n"
      ],
      "id": "f172b8a0"
    },
    {
      "cell_type": "code",
      "metadata": {},
      "source": [
        "import pandas as pd\n",
        "import numpy as np\n",
        "#1\n",
        "mpg=pd.read_csv('data/mpg.csv')\n",
        "\n",
        "\n",
        "mpg_c=mpg.copy()\n",
        "#2\n",
        "mpg_c=mpg_c.rename(columns={\"cty\" : \"city\"})\n",
        "mpg_c=mpg_c.rename(columns={\"hwy\" : \"highway\"})\n",
        "#3\n",
        "mpg_c"
      ],
      "id": "e8018224",
      "execution_count": null,
      "outputs": []
    },
    {
      "cell_type": "markdown",
      "metadata": {},
      "source": [
        "# 130P"
      ],
      "id": "e93084d7"
    },
    {
      "cell_type": "code",
      "metadata": {},
      "source": [
        "import pandas as pd\n",
        "import numpy as np\n",
        "#1\n",
        "mid=pd.read_csv('data/midwest.csv')\n",
        "mid.head()\n",
        "mid.tail()\n",
        "mid.shape()\n",
        "mid.inf()\n",
        "mid.describe()\n",
        "mid\n",
        "#2\n",
        "mid=mid.rename(columns = {\"poptotal\":\"total\"})\n",
        "mid=mid.rename(columns = {\"popasian\":\"asian\"})\n",
        "mid\n",
        "#3\n",
        "mid[\"100asian\"]=mid[\"asian\"]/mid[\"total\"]*100\n",
        "mid[\"100asian\"].plot.hist()\n",
        "import matplotlib.pyplot as plt # 도표로 보여주게 하기위해서 추가한것 클린하는법은 plt.clf()\n",
        "plt.show() # 도표로 보여주게 하기위해서 추가한것 \n",
        "plt.clf()\n",
        "#4\n",
        "mean=np.mean(mid[\"100asian\"])\n",
        "mid[\"compare\"] = np.where(mid[\"100asian\"]>mean,\"large\",\"small\")\n",
        "#5\n",
        "com=mid[\"compare\"].value_counts()\n",
        "com.plot.bar()\n",
        "plt.show()\n"
      ],
      "id": "15316530",
      "execution_count": null,
      "outputs": []
    }
  ],
  "metadata": {
    "kernelspec": {
      "name": "python3",
      "language": "python",
      "display_name": "Python 3 (ipykernel)"
    }
  },
  "nbformat": 4,
  "nbformat_minor": 5
}